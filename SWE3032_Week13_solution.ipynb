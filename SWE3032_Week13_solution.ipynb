{
 "nbformat": 4,
 "nbformat_minor": 0,
 "metadata": {
  "colab": {
   "name": "SWE3032_Week13_solution_script.ipynb",
   "provenance": [],
   "collapsed_sections": [],
   "authorship_tag": "ABX9TyPv76S4sUN1+8dvobdohAec"
  },
  "kernelspec": {
   "name": "python3",
   "display_name": "Python 3"
  }
 },
 "cells": [
  {
   "cell_type": "markdown",
   "metadata": {
    "id": "LLnsngMRLQbf"
   },
   "source": [
    "# Week 13 목표\n",
    "\n",
    "5~12 주차\n",
    "\n",
    "    * 딥러닝 프레임워크 다루기 \n",
    "    * 딥러닝 프레임워크로 CNN RNN 모델 만들어보기 \n",
    "    * 만든 모델로 이미지, 텍스트, etc 데이터 에 대한 특정 문제 풀어보기\n",
    "\n",
    "13 주차\n",
    "\n",
    "    * 머신러닝 테크닉 중에서 유용한 것 \n",
    "        * imbalanced dataset 이 뭔지\n",
    "        * 왜 문제인지\n",
    "        * 이를 평가하기 위한 다른 metric 은 무엇인지\n",
    "        * 어떤 방법들로 imbalanced 를 해결할 수 있는지\n",
    "\n",
    "\n",
    "14 주차\n",
    "\n",
    "    * 1~13 Recap. \n",
    "    * 인공지능 프로젝트를 수행하기 위해 뭘 더 공부해야할까\n",
    "        * 어떤 분야를 공부할 수 있는지\n",
    "        * 어떤 문제를 풀어볼 수 있는지\n",
    "        * 어떤 기초 지식을 쌓아두면 좋을 지"
   ]
  },
  {
   "cell_type": "markdown",
   "metadata": {
    "id": "5tQ2jkNfHe9e"
   },
   "source": [
    "# Week13 Dealing with Imbalanced Dataset\n"
   ]
  },
  {
   "cell_type": "markdown",
   "metadata": {
    "id": "AoUxqPvh8DFs"
   },
   "source": [
    "# Content\n",
    "\n",
    "Preparation\n",
    "\n",
    "Imbalanced dataset\n",
    "- evaluation metric - precision recall f1\n",
    "\n",
    "dealing with imbalanced dataset\n",
    "- cross validation 할 때 주의할 점\n",
    "- technique\n",
    "    - under \n",
    "    - over\n",
    "\n",
    "- algorithm\n",
    "    - bagging\n",
    "    - boosting\n",
    "\n",
    "\n",
    "Augmentation\n",
    "\n",
    "Transferlearning\n",
    "\n"
   ]
  },
  {
   "cell_type": "markdown",
   "metadata": {
    "id": "7w2Y_QojYNzp"
   },
   "source": [
    "# Preparation"
   ]
  },
  {
   "cell_type": "code",
   "metadata": {
    "id": "_aq8VHV779wo",
    "colab": {
     "base_uri": "https://localhost:8080/"
    },
    "executionInfo": {
     "status": "ok",
     "timestamp": 1606967849769,
     "user_tz": -540,
     "elapsed": 4848,
     "user": {
      "displayName": "JinUk Cho",
      "photoUrl": "",
      "userId": "10000090644219567406"
     }
    },
    "outputId": "755b77e5-e4f1-48f7-bc1e-35755599528d"
   },
   "source": [
    "!wget --load-cookies /tmp/cookies.txt \"https://docs.google.com/uc?export=download&confirm=$(wget --quiet --save-cookies /tmp/cookies.txt --keep-session-cookies --no-check-certificate 'https://docs.google.com/uc?export=download&id=1mjRQ13ELyzcYiFyCGiIeCqYYeGI9qGXd' -O- | sed -rn 's/.*confirm=([0-9A-Za-z_]+).*/\\1\\n/p')&id=1mjRQ13ELyzcYiFyCGiIeCqYYeGI9qGXd\" -O creditfraud.zip && rm -rf /tmp/cookies.txt\n",
    "!!unzip creditfraud.zip -d /content/input/"
   ],
   "execution_count": 1,
   "outputs": [
    {
     "output_type": "stream",
     "text": [
      "--2020-12-03 03:57:25--  https://docs.google.com/uc?export=download&confirm=McSE&id=1mjRQ13ELyzcYiFyCGiIeCqYYeGI9qGXd\n",
      "Resolving docs.google.com (docs.google.com)... 74.125.28.101, 74.125.28.138, 74.125.28.113, ...\n",
      "Connecting to docs.google.com (docs.google.com)|74.125.28.101|:443... connected.\n",
      "HTTP request sent, awaiting response... 302 Moved Temporarily\n",
      "Location: https://doc-10-0o-docs.googleusercontent.com/docs/securesc/2652p28d8ab82br3ovglop8at52akudc/a6lkvs50huaf6c8bmj6h96shecamlavi/1606967775000/10000090644219567406/12301977992919168867Z/1mjRQ13ELyzcYiFyCGiIeCqYYeGI9qGXd?e=download [following]\n",
      "--2020-12-03 03:57:25--  https://doc-10-0o-docs.googleusercontent.com/docs/securesc/2652p28d8ab82br3ovglop8at52akudc/a6lkvs50huaf6c8bmj6h96shecamlavi/1606967775000/10000090644219567406/12301977992919168867Z/1mjRQ13ELyzcYiFyCGiIeCqYYeGI9qGXd?e=download\n",
      "Resolving doc-10-0o-docs.googleusercontent.com (doc-10-0o-docs.googleusercontent.com)... 74.125.20.132, 2607:f8b0:400e:c07::84\n",
      "Connecting to doc-10-0o-docs.googleusercontent.com (doc-10-0o-docs.googleusercontent.com)|74.125.20.132|:443... connected.\n",
      "HTTP request sent, awaiting response... 302 Found\n",
      "Location: https://docs.google.com/nonceSigner?nonce=63s39m4paujl4&continue=https://doc-10-0o-docs.googleusercontent.com/docs/securesc/2652p28d8ab82br3ovglop8at52akudc/a6lkvs50huaf6c8bmj6h96shecamlavi/1606967775000/10000090644219567406/12301977992919168867Z/1mjRQ13ELyzcYiFyCGiIeCqYYeGI9qGXd?e%3Ddownload&hash=810elvoli3vu0e16abec1j9trtumdnkr [following]\n",
      "--2020-12-03 03:57:26--  https://docs.google.com/nonceSigner?nonce=63s39m4paujl4&continue=https://doc-10-0o-docs.googleusercontent.com/docs/securesc/2652p28d8ab82br3ovglop8at52akudc/a6lkvs50huaf6c8bmj6h96shecamlavi/1606967775000/10000090644219567406/12301977992919168867Z/1mjRQ13ELyzcYiFyCGiIeCqYYeGI9qGXd?e%3Ddownload&hash=810elvoli3vu0e16abec1j9trtumdnkr\n",
      "Connecting to docs.google.com (docs.google.com)|74.125.28.101|:443... connected.\n",
      "HTTP request sent, awaiting response... 302 Found\n",
      "Location: https://doc-10-0o-docs.googleusercontent.com/docs/securesc/2652p28d8ab82br3ovglop8at52akudc/a6lkvs50huaf6c8bmj6h96shecamlavi/1606967775000/10000090644219567406/12301977992919168867Z/1mjRQ13ELyzcYiFyCGiIeCqYYeGI9qGXd?e=download&nonce=63s39m4paujl4&user=12301977992919168867Z&hash=oom7pcau4p2bfagmptunns8nlup3pgko [following]\n",
      "--2020-12-03 03:57:26--  https://doc-10-0o-docs.googleusercontent.com/docs/securesc/2652p28d8ab82br3ovglop8at52akudc/a6lkvs50huaf6c8bmj6h96shecamlavi/1606967775000/10000090644219567406/12301977992919168867Z/1mjRQ13ELyzcYiFyCGiIeCqYYeGI9qGXd?e=download&nonce=63s39m4paujl4&user=12301977992919168867Z&hash=oom7pcau4p2bfagmptunns8nlup3pgko\n",
      "Connecting to doc-10-0o-docs.googleusercontent.com (doc-10-0o-docs.googleusercontent.com)|74.125.20.132|:443... connected.\n",
      "HTTP request sent, awaiting response... 200 OK\n",
      "Length: unspecified [application/zip]\n",
      "Saving to: ‘creditfraud.zip’\n",
      "\n",
      "creditfraud.zip         [    <=>             ]  65.95M  57.4MB/s    in 1.1s    \n",
      "\n",
      "2020-12-03 03:57:27 (57.4 MB/s) - ‘creditfraud.zip’ saved [69155672]\n",
      "\n"
     ],
     "name": "stdout"
    },
    {
     "output_type": "execute_result",
     "data": {
      "text/plain": [
       "['Archive:  creditfraud.zip', '  inflating: /content/input/creditcard.csv  ']"
      ]
     },
     "metadata": {
      "tags": []
     },
     "execution_count": 1
    }
   ]
  },
  {
   "cell_type": "code",
   "metadata": {
    "_cell_guid": "b1076dfc-b9ad-4769-8c92-a6c4dae69d19",
    "_kg_hide-input": true,
    "_uuid": "8f2839f25d086af736a60e9eeb907d3b93b6e0e5",
    "id": "OW_tOTj7YNzp",
    "executionInfo": {
     "status": "ok",
     "timestamp": 1606967852465,
     "user_tz": -540,
     "elapsed": 7539,
     "user": {
      "displayName": "JinUk Cho",
      "photoUrl": "",
      "userId": "10000090644219567406"
     }
    }
   },
   "source": [
    "# Imported Libraries\n",
    "import numpy as np \n",
    "import pandas as pd # data processing, CSV file I/O (e.g. pd.read_csv)\n",
    "import tensorflow as tf\n",
    "import matplotlib.pyplot as plt\n",
    "import seaborn as sns\n",
    "\n",
    "# Other Libraries\n",
    "from sklearn.metrics import precision_score, recall_score, f1_score, roc_auc_score, accuracy_score, classification_report"
   ],
   "execution_count": 2,
   "outputs": []
  },
  {
   "cell_type": "markdown",
   "metadata": {
    "id": "NnvMm-7bYNzp"
   },
   "source": [
    "## Loading Data"
   ]
  },
  {
   "cell_type": "code",
   "metadata": {
    "id": "u4KjLhXZlRs1"
   },
   "source": [
    "\"\"\"\n",
    "The first thing we must do is gather a basic sense of our data. \n",
    "Remember, except for the time and amount we dont know what the other columns are (due to privacy reasons).\n",
    " The only thing we know, is that those columns that are unknown have been scaled already.\n",
    "\"\"\""
   ],
   "execution_count": null,
   "outputs": []
  },
  {
   "cell_type": "code",
   "metadata": {
    "colab": {
     "base_uri": "https://localhost:8080/",
     "height": 224
    },
    "id": "N8m_jg9m6vIb",
    "executionInfo": {
     "status": "ok",
     "timestamp": 1606982268333,
     "user_tz": -540,
     "elapsed": 3706,
     "user": {
      "displayName": "JinUk Cho",
      "photoUrl": "",
      "userId": "10000090644219567406"
     }
    },
    "outputId": "f0114496-07af-4c4f-ba38-c7e47f026fca"
   },
   "source": [
    "df = pd.read_csv('./input/creditcard.csv')\n",
    "df.head()"
   ],
   "execution_count": 270,
   "outputs": [
    {
     "output_type": "execute_result",
     "data": {
      "text/html": [
       "<div>\n",
       "<style scoped>\n",
       "    .dataframe tbody tr th:only-of-type {\n",
       "        vertical-align: middle;\n",
       "    }\n",
       "\n",
       "    .dataframe tbody tr th {\n",
       "        vertical-align: top;\n",
       "    }\n",
       "\n",
       "    .dataframe thead th {\n",
       "        text-align: right;\n",
       "    }\n",
       "</style>\n",
       "<table border=\"1\" class=\"dataframe\">\n",
       "  <thead>\n",
       "    <tr style=\"text-align: right;\">\n",
       "      <th></th>\n",
       "      <th>Time</th>\n",
       "      <th>V1</th>\n",
       "      <th>V2</th>\n",
       "      <th>V3</th>\n",
       "      <th>V4</th>\n",
       "      <th>V5</th>\n",
       "      <th>V6</th>\n",
       "      <th>V7</th>\n",
       "      <th>V8</th>\n",
       "      <th>V9</th>\n",
       "      <th>V10</th>\n",
       "      <th>V11</th>\n",
       "      <th>V12</th>\n",
       "      <th>V13</th>\n",
       "      <th>V14</th>\n",
       "      <th>V15</th>\n",
       "      <th>V16</th>\n",
       "      <th>V17</th>\n",
       "      <th>V18</th>\n",
       "      <th>V19</th>\n",
       "      <th>V20</th>\n",
       "      <th>V21</th>\n",
       "      <th>V22</th>\n",
       "      <th>V23</th>\n",
       "      <th>V24</th>\n",
       "      <th>V25</th>\n",
       "      <th>V26</th>\n",
       "      <th>V27</th>\n",
       "      <th>V28</th>\n",
       "      <th>Amount</th>\n",
       "      <th>Class</th>\n",
       "    </tr>\n",
       "  </thead>\n",
       "  <tbody>\n",
       "    <tr>\n",
       "      <th>0</th>\n",
       "      <td>0.0</td>\n",
       "      <td>-1.359807</td>\n",
       "      <td>-0.072781</td>\n",
       "      <td>2.536347</td>\n",
       "      <td>1.378155</td>\n",
       "      <td>-0.338321</td>\n",
       "      <td>0.462388</td>\n",
       "      <td>0.239599</td>\n",
       "      <td>0.098698</td>\n",
       "      <td>0.363787</td>\n",
       "      <td>0.090794</td>\n",
       "      <td>-0.551600</td>\n",
       "      <td>-0.617801</td>\n",
       "      <td>-0.991390</td>\n",
       "      <td>-0.311169</td>\n",
       "      <td>1.468177</td>\n",
       "      <td>-0.470401</td>\n",
       "      <td>0.207971</td>\n",
       "      <td>0.025791</td>\n",
       "      <td>0.403993</td>\n",
       "      <td>0.251412</td>\n",
       "      <td>-0.018307</td>\n",
       "      <td>0.277838</td>\n",
       "      <td>-0.110474</td>\n",
       "      <td>0.066928</td>\n",
       "      <td>0.128539</td>\n",
       "      <td>-0.189115</td>\n",
       "      <td>0.133558</td>\n",
       "      <td>-0.021053</td>\n",
       "      <td>149.62</td>\n",
       "      <td>0</td>\n",
       "    </tr>\n",
       "    <tr>\n",
       "      <th>1</th>\n",
       "      <td>0.0</td>\n",
       "      <td>1.191857</td>\n",
       "      <td>0.266151</td>\n",
       "      <td>0.166480</td>\n",
       "      <td>0.448154</td>\n",
       "      <td>0.060018</td>\n",
       "      <td>-0.082361</td>\n",
       "      <td>-0.078803</td>\n",
       "      <td>0.085102</td>\n",
       "      <td>-0.255425</td>\n",
       "      <td>-0.166974</td>\n",
       "      <td>1.612727</td>\n",
       "      <td>1.065235</td>\n",
       "      <td>0.489095</td>\n",
       "      <td>-0.143772</td>\n",
       "      <td>0.635558</td>\n",
       "      <td>0.463917</td>\n",
       "      <td>-0.114805</td>\n",
       "      <td>-0.183361</td>\n",
       "      <td>-0.145783</td>\n",
       "      <td>-0.069083</td>\n",
       "      <td>-0.225775</td>\n",
       "      <td>-0.638672</td>\n",
       "      <td>0.101288</td>\n",
       "      <td>-0.339846</td>\n",
       "      <td>0.167170</td>\n",
       "      <td>0.125895</td>\n",
       "      <td>-0.008983</td>\n",
       "      <td>0.014724</td>\n",
       "      <td>2.69</td>\n",
       "      <td>0</td>\n",
       "    </tr>\n",
       "    <tr>\n",
       "      <th>2</th>\n",
       "      <td>1.0</td>\n",
       "      <td>-1.358354</td>\n",
       "      <td>-1.340163</td>\n",
       "      <td>1.773209</td>\n",
       "      <td>0.379780</td>\n",
       "      <td>-0.503198</td>\n",
       "      <td>1.800499</td>\n",
       "      <td>0.791461</td>\n",
       "      <td>0.247676</td>\n",
       "      <td>-1.514654</td>\n",
       "      <td>0.207643</td>\n",
       "      <td>0.624501</td>\n",
       "      <td>0.066084</td>\n",
       "      <td>0.717293</td>\n",
       "      <td>-0.165946</td>\n",
       "      <td>2.345865</td>\n",
       "      <td>-2.890083</td>\n",
       "      <td>1.109969</td>\n",
       "      <td>-0.121359</td>\n",
       "      <td>-2.261857</td>\n",
       "      <td>0.524980</td>\n",
       "      <td>0.247998</td>\n",
       "      <td>0.771679</td>\n",
       "      <td>0.909412</td>\n",
       "      <td>-0.689281</td>\n",
       "      <td>-0.327642</td>\n",
       "      <td>-0.139097</td>\n",
       "      <td>-0.055353</td>\n",
       "      <td>-0.059752</td>\n",
       "      <td>378.66</td>\n",
       "      <td>0</td>\n",
       "    </tr>\n",
       "    <tr>\n",
       "      <th>3</th>\n",
       "      <td>1.0</td>\n",
       "      <td>-0.966272</td>\n",
       "      <td>-0.185226</td>\n",
       "      <td>1.792993</td>\n",
       "      <td>-0.863291</td>\n",
       "      <td>-0.010309</td>\n",
       "      <td>1.247203</td>\n",
       "      <td>0.237609</td>\n",
       "      <td>0.377436</td>\n",
       "      <td>-1.387024</td>\n",
       "      <td>-0.054952</td>\n",
       "      <td>-0.226487</td>\n",
       "      <td>0.178228</td>\n",
       "      <td>0.507757</td>\n",
       "      <td>-0.287924</td>\n",
       "      <td>-0.631418</td>\n",
       "      <td>-1.059647</td>\n",
       "      <td>-0.684093</td>\n",
       "      <td>1.965775</td>\n",
       "      <td>-1.232622</td>\n",
       "      <td>-0.208038</td>\n",
       "      <td>-0.108300</td>\n",
       "      <td>0.005274</td>\n",
       "      <td>-0.190321</td>\n",
       "      <td>-1.175575</td>\n",
       "      <td>0.647376</td>\n",
       "      <td>-0.221929</td>\n",
       "      <td>0.062723</td>\n",
       "      <td>0.061458</td>\n",
       "      <td>123.50</td>\n",
       "      <td>0</td>\n",
       "    </tr>\n",
       "    <tr>\n",
       "      <th>4</th>\n",
       "      <td>2.0</td>\n",
       "      <td>-1.158233</td>\n",
       "      <td>0.877737</td>\n",
       "      <td>1.548718</td>\n",
       "      <td>0.403034</td>\n",
       "      <td>-0.407193</td>\n",
       "      <td>0.095921</td>\n",
       "      <td>0.592941</td>\n",
       "      <td>-0.270533</td>\n",
       "      <td>0.817739</td>\n",
       "      <td>0.753074</td>\n",
       "      <td>-0.822843</td>\n",
       "      <td>0.538196</td>\n",
       "      <td>1.345852</td>\n",
       "      <td>-1.119670</td>\n",
       "      <td>0.175121</td>\n",
       "      <td>-0.451449</td>\n",
       "      <td>-0.237033</td>\n",
       "      <td>-0.038195</td>\n",
       "      <td>0.803487</td>\n",
       "      <td>0.408542</td>\n",
       "      <td>-0.009431</td>\n",
       "      <td>0.798278</td>\n",
       "      <td>-0.137458</td>\n",
       "      <td>0.141267</td>\n",
       "      <td>-0.206010</td>\n",
       "      <td>0.502292</td>\n",
       "      <td>0.219422</td>\n",
       "      <td>0.215153</td>\n",
       "      <td>69.99</td>\n",
       "      <td>0</td>\n",
       "    </tr>\n",
       "  </tbody>\n",
       "</table>\n",
       "</div>"
      ],
      "text/plain": [
       "   Time        V1        V2        V3  ...       V27       V28  Amount  Class\n",
       "0   0.0 -1.359807 -0.072781  2.536347  ...  0.133558 -0.021053  149.62      0\n",
       "1   0.0  1.191857  0.266151  0.166480  ... -0.008983  0.014724    2.69      0\n",
       "2   1.0 -1.358354 -1.340163  1.773209  ... -0.055353 -0.059752  378.66      0\n",
       "3   1.0 -0.966272 -0.185226  1.792993  ...  0.062723  0.061458  123.50      0\n",
       "4   2.0 -1.158233  0.877737  1.548718  ...  0.219422  0.215153   69.99      0\n",
       "\n",
       "[5 rows x 31 columns]"
      ]
     },
     "metadata": {
      "tags": []
     },
     "execution_count": 270
    }
   ]
  },
  {
   "cell_type": "code",
   "metadata": {
    "colab": {
     "base_uri": "https://localhost:8080/"
    },
    "id": "m7YgeRQ0696k",
    "executionInfo": {
     "status": "ok",
     "timestamp": 1606972855289,
     "user_tz": -540,
     "elapsed": 3564,
     "user": {
      "displayName": "JinUk Cho",
      "photoUrl": "",
      "userId": "10000090644219567406"
     }
    },
    "outputId": "f109798e-1dea-4703-c1b5-d53dbd841262"
   },
   "source": [
    "df.columns"
   ],
   "execution_count": 120,
   "outputs": [
    {
     "output_type": "execute_result",
     "data": {
      "text/plain": [
       "Index(['Time', 'V1', 'V2', 'V3', 'V4', 'V5', 'V6', 'V7', 'V8', 'V9', 'V10',\n",
       "       'V11', 'V12', 'V13', 'V14', 'V15', 'V16', 'V17', 'V18', 'V19', 'V20',\n",
       "       'V21', 'V22', 'V23', 'V24', 'V25', 'V26', 'V27', 'V28', 'Amount',\n",
       "       'Class'],\n",
       "      dtype='object')"
      ]
     },
     "metadata": {
      "tags": []
     },
     "execution_count": 120
    }
   ]
  },
  {
   "cell_type": "markdown",
   "metadata": {
    "id": "45toPwlIYNzq"
   },
   "source": [
    "Getting basic Idea"
   ]
  },
  {
   "cell_type": "code",
   "metadata": {
    "id": "eM3Hh_nlYNzq",
    "colab": {
     "base_uri": "https://localhost:8080/"
    },
    "cellView": "code",
    "executionInfo": {
     "status": "ok",
     "timestamp": 1606981897268,
     "user_tz": -540,
     "elapsed": 1201,
     "user": {
      "displayName": "JinUk Cho",
      "photoUrl": "",
      "userId": "10000090644219567406"
     }
    },
    "outputId": "cc3d8efe-a7ee-4e7a-c246-aaff28e860df"
   },
   "source": [
    "#@title\n",
    "df.info()"
   ],
   "execution_count": 267,
   "outputs": [
    {
     "output_type": "stream",
     "text": [
      "<class 'pandas.core.frame.DataFrame'>\n",
      "RangeIndex: 284807 entries, 0 to 284806\n",
      "Data columns (total 31 columns):\n",
      " #   Column         Non-Null Count   Dtype  \n",
      "---  ------         --------------   -----  \n",
      " 0   scaled_amount  284807 non-null  float64\n",
      " 1   scaled_time    284807 non-null  float64\n",
      " 2   V1             284807 non-null  float64\n",
      " 3   V2             284807 non-null  float64\n",
      " 4   V3             284807 non-null  float64\n",
      " 5   V4             284807 non-null  float64\n",
      " 6   V5             284807 non-null  float64\n",
      " 7   V6             284807 non-null  float64\n",
      " 8   V7             284807 non-null  float64\n",
      " 9   V8             284807 non-null  float64\n",
      " 10  V9             284807 non-null  float64\n",
      " 11  V10            284807 non-null  float64\n",
      " 12  V11            284807 non-null  float64\n",
      " 13  V12            284807 non-null  float64\n",
      " 14  V13            284807 non-null  float64\n",
      " 15  V14            284807 non-null  float64\n",
      " 16  V15            284807 non-null  float64\n",
      " 17  V16            284807 non-null  float64\n",
      " 18  V17            284807 non-null  float64\n",
      " 19  V18            284807 non-null  float64\n",
      " 20  V19            284807 non-null  float64\n",
      " 21  V20            284807 non-null  float64\n",
      " 22  V21            284807 non-null  float64\n",
      " 23  V22            284807 non-null  float64\n",
      " 24  V23            284807 non-null  float64\n",
      " 25  V24            284807 non-null  float64\n",
      " 26  V25            284807 non-null  float64\n",
      " 27  V26            284807 non-null  float64\n",
      " 28  V27            284807 non-null  float64\n",
      " 29  V28            284807 non-null  float64\n",
      " 30  Class          284807 non-null  int64  \n",
      "dtypes: float64(30), int64(1)\n",
      "memory usage: 67.4 MB\n"
     ],
     "name": "stdout"
    }
   ]
  },
  {
   "cell_type": "markdown",
   "metadata": {
    "id": "F-iZhd5WYNzq"
   },
   "source": [
    "Target variable\n"
   ]
  },
  {
   "cell_type": "code",
   "metadata": {
    "colab": {
     "base_uri": "https://localhost:8080/"
    },
    "id": "oA6DCbwl6-1T",
    "executionInfo": {
     "status": "ok",
     "timestamp": 1606972855290,
     "user_tz": -540,
     "elapsed": 3557,
     "user": {
      "displayName": "JinUk Cho",
      "photoUrl": "",
      "userId": "10000090644219567406"
     }
    },
    "outputId": "7aad3809-cdb9-4db4-c7fa-1a82f2fe93d0"
   },
   "source": [
    "# The classes are heavily skewed we need to solve this issue later.\n",
    "print('No Frauds', round(df['Class'].value_counts()[0]/len(df) * 100,2), '% of the dataset')\n",
    "print('Frauds', round(df['Class'].value_counts()[1]/len(df) * 100,2), '% of the dataset')"
   ],
   "execution_count": 121,
   "outputs": [
    {
     "output_type": "stream",
     "text": [
      "No Frauds 99.83 % of the dataset\n",
      "Frauds 0.17 % of the dataset\n"
     ],
     "name": "stdout"
    }
   ]
  },
  {
   "cell_type": "code",
   "metadata": {
    "colab": {
     "base_uri": "https://localhost:8080/"
    },
    "id": "agf69bMwmZHT",
    "executionInfo": {
     "status": "ok",
     "timestamp": 1606982151780,
     "user_tz": -540,
     "elapsed": 915,
     "user": {
      "displayName": "JinUk Cho",
      "photoUrl": "",
      "userId": "10000090644219567406"
     }
    },
    "outputId": "ba7e590f-417f-4c75-9634-2f8093001fca"
   },
   "source": [
    "df['Class'].value_counts()[1]"
   ],
   "execution_count": 269,
   "outputs": [
    {
     "output_type": "execute_result",
     "data": {
      "text/plain": [
       "492"
      ]
     },
     "metadata": {
      "tags": []
     },
     "execution_count": 269
    }
   ]
  },
  {
   "cell_type": "code",
   "metadata": {
    "id": "_dSCum1zYNzq",
    "colab": {
     "base_uri": "https://localhost:8080/",
     "height": 373
    },
    "cellView": "code",
    "executionInfo": {
     "status": "ok",
     "timestamp": 1606972855606,
     "user_tz": -540,
     "elapsed": 3865,
     "user": {
      "displayName": "JinUk Cho",
      "photoUrl": "",
      "userId": "10000090644219567406"
     }
    },
    "outputId": "853a0ad7-f9bf-4681-f32c-9f8774304488"
   },
   "source": [
    "#@title\n",
    "x=df['Class'].value_counts().values\n",
    "sns.barplot([0,1],x)\n",
    "plt.title('Class Distributions \\n (0: No Fraud || 1: Fraud)', fontsize=14)"
   ],
   "execution_count": 122,
   "outputs": [
    {
     "output_type": "stream",
     "text": [
      "/usr/local/lib/python3.6/dist-packages/seaborn/_decorators.py:43: FutureWarning: Pass the following variables as keyword args: x, y. From version 0.12, the only valid positional argument will be `data`, and passing other arguments without an explicit keyword will result in an error or misinterpretation.\n",
      "  FutureWarning\n"
     ],
     "name": "stderr"
    },
    {
     "output_type": "execute_result",
     "data": {
      "text/plain": [
       "Text(0.5, 1.0, 'Class Distributions \\n (0: No Fraud || 1: Fraud)')"
      ]
     },
     "metadata": {
      "tags": []
     },
     "execution_count": 122
    },
    {
     "output_type": "display_data",
     "data": {
      "image/png": "[encoded data removed]",
      "text/plain": [
       "<Figure size 432x288 with 1 Axes>"
      ]
     },
     "metadata": {
      "tags": [],
      "needs_background": "light"
     }
    }
   ]
  },
  {
   "cell_type": "markdown",
   "metadata": {
    "id": "1SYY0torYNzq"
   },
   "source": [
    "- There is clearly a class imbalace problem.\n",
    "- We will look into methods of solving this issue later in this notebook."
   ]
  },
  {
   "cell_type": "code",
   "metadata": {
    "id": "t3WUt7_Mmsp1",
    "executionInfo": {
     "status": "ok",
     "timestamp": 1606982269978,
     "user_tz": -540,
     "elapsed": 745,
     "user": {
      "displayName": "JinUk Cho",
      "photoUrl": "",
      "userId": "10000090644219567406"
     }
    }
   },
   "source": [
    "df = df.drop(['Time', 'Amount'], axis=1)"
   ],
   "execution_count": 271,
   "outputs": []
  },
  {
   "cell_type": "markdown",
   "metadata": {
    "id": "l1wX7JXHGBj7"
   },
   "source": [
    "# Imbalanced Dataset"
   ]
  },
  {
   "cell_type": "markdown",
   "metadata": {
    "id": "6NfhOht2nKGe"
   },
   "source": []
  },
  {
   "cell_type": "code",
   "metadata": {
    "id": "-htIJt1zi79U"
   },
   "source": [
    "Suppose the professor gives you a 100 T/F questions as a final exam instead of an assignment. you should study hard, right?\n",
    "But what if I tell you that 99 T and 1 F in advance? Is it still better to study? Or what else strategy is there?\n",
    "\n",
    "Yes, of course, you will get better grades if you mark all the questions as true rather than studying hard and try to solve the questions.\n",
    "So what type of the problem can be defined in this case?\n",
    "\n",
    "- Most students (models) don't study.\n",
    "- No matter who studies hard, they don't get good grades (they don't study)\n",
    "- For professors, it is impossible to know who did well among the students."
   ],
   "execution_count": null,
   "outputs": []
  },
  {
   "cell_type": "markdown",
   "metadata": {
    "id": "4LzO07tWYNzq"
   },
   "source": [
    "## The metric trap \n",
    "\n",
    "One of the major issues that novice users fall into when dealing with unbalanced datasets relates to the metrics used to evaluate their model. Using simpler metrics like accuracy_score can be misleading. In a dataset with highly unbalanced classes, if the classifier always \"predicts\" the most common class without performing any analysis of the features, it will still have a high accuracy rate, obviously illusory.\n",
    "\n",
    "\n",
    "    False Positive. Predict an event when there was no event.\n",
    "    False Negative. Predict no event when in fact there was an event.\n",
    "\n",
    "   In the overview of the problem statement the organizers has described a situation where you stand at the queue for a long time and when your chance arrives,the transaction gets denied because it was interpreted as a Fraudulent transaction which many of us have faced.\n",
    " This is classical example of **False Negative** prediction.\n",
    " \n",
    "\n",
    "\n",
    "**Change the performance metric**\n",
    "\n",
    "As we saw above, accuracy is not the best metric to use when evaluating imbalanced datasets as it can be very misleading. Metrics that can provide better insight include:\n"
   ]
  },
  {
   "cell_type": "code",
   "metadata": {
    "id": "YMX-u9UDaq_1",
    "executionInfo": {
     "status": "ok",
     "timestamp": 1606972855607,
     "user_tz": -540,
     "elapsed": 3852,
     "user": {
      "displayName": "JinUk Cho",
      "photoUrl": "",
      "userId": "10000090644219567406"
     }
    }
   },
   "source": [
    "# naive classifier\n",
    "def naive_classify(X_train):\n",
    "    # we don't care X_train dataset. Just predict everything as 'NotFraud'\n",
    "    y_pred = np.array([0] * X_train.shape[0])\n",
    "    return y_pred"
   ],
   "execution_count": 125,
   "outputs": []
  },
  {
   "cell_type": "code",
   "metadata": {
    "colab": {
     "base_uri": "https://localhost:8080/"
    },
    "id": "4rvlcI9o8jVm",
    "executionInfo": {
     "status": "ok",
     "timestamp": 1606972855882,
     "user_tz": -540,
     "elapsed": 4123,
     "user": {
      "displayName": "JinUk Cho",
      "photoUrl": "",
      "userId": "10000090644219567406"
     }
    },
    "outputId": "d8c77567-a688-4ecd-bc49-aebb500ee6fe"
   },
   "source": [
    "from sklearn.metrics import accuracy_score\n",
    "\n",
    "y_true_naive = df['Class'].values\n",
    "# print(y_true.shape)\n",
    "x_t = df.drop(['Class'], axis=1).values\n",
    "y_pred_naive = naive_classify(x_t)\n",
    "print(accuracy_score(y_true_naive, y_pred_naive))"
   ],
   "execution_count": 126,
   "outputs": [
    {
     "output_type": "stream",
     "text": [
      "0.9982725143693799\n"
     ],
     "name": "stdout"
    }
   ]
  },
  {
   "cell_type": "markdown",
   "metadata": {
    "id": "rLwY35cj7NG4"
   },
   "source": [
    "## New evaluation metric"
   ]
  },
  {
   "cell_type": "markdown",
   "metadata": {
    "id": "tZNX_lsK4_at"
   },
   "source": [
    "<h3>Terms:<h3>\n",
    "\n",
    "True Positives: Correctly Classified Fraud Transactions\n",
    "\n",
    "False Positives: Incorrectly Classified Fraud Transactions (오탐지)\n",
    "\n",
    "True Negative: Correctly Classified Non-Fraud Transactions\n",
    "\n",
    "False Negative: Incorrectly Classified Non-Fraud Transactions (미탐지)\n",
    "\n"
   ]
  },
  {
   "cell_type": "markdown",
   "metadata": {
    "id": "Qa1_1pks8XsK"
   },
   "source": [
    "![image.png](data:image/png;base64,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)"
   ]
  },
  {
   "cell_type": "code",
   "metadata": {
    "id": "uetUz060oSto"
   },
   "source": [
    "\"\"\"\n",
    "이 그림은 실제 데이터셋 네모 안에서 모델이 예측한 결과 동그라미를 나타낸다. \n",
    "\n",
    "보면 모델이 제대로 예측한 것과 예측하지 못한 것들이 존재하는데, 우리는 이걸 4가지로 구분할 수 있다. \n",
    "\n",
    "\n",
    "\"\"\""
   ],
   "execution_count": null,
   "outputs": []
  },
  {
   "cell_type": "markdown",
   "metadata": {
    "id": "kUcUVSG8oR3H"
   },
   "source": [
    ""
   ]
  },
  {
   "cell_type": "markdown",
   "metadata": {
    "id": "41jEUTfg59tc"
   },
   "source": [
    "Precision: True Positives/(True Positives + False Positives)\n",
    "\n",
    "Recall: True Positives/(True Positives + False Negatives)\n",
    "\n",
    "Precision as the name says, says how precise (how sure) is our model in detecting fraud transactions while recall is the amount of fraud cases our model is able to detect.\n",
    "\n",
    "\n",
    "**Confusion Matrix**: a table showing correct predictions and types of incorrect predictions.\n",
    "    \n",
    "**Precision**: the number of true positives divided by all positive predictions. Precision is also called Positive Predictive Value. It is a measure of a classifier’s exactness. Low precision indicates a high number of false positives.\n",
    "    \n",
    "**Recall**: the number of true positives divided by the number of positive values in the test data. Recall is also called Sensitivity or the True Positive Rate. It is a measure of a classifier’s completeness. Low recall indicates a high number of false negatives.\n",
    "    \n",
    "**F1 Score**: the weighted average of precision and recall. (harmonic average)\n",
    "    "
   ]
  },
  {
   "cell_type": "markdown",
   "metadata": {
    "id": "b15KzcsJ8e_o"
   },
   "source": [
    "![image.png](data:image/png;base64,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)"
   ]
  },
  {
   "cell_type": "code",
   "metadata": {
    "id": "h_XqhU1ookc2"
   },
   "source": [
    "\"\"\"\n",
    "r fn 관련 있는 것 중 얼마나 모델이 선택했냐\n",
    "how many fraud is selected by model \n",
    "p fp 모델이 선택한 것 중에 관련이 있는 것이 얼마나 있냐\n",
    "how many fraud prediction from model is actually fraud\n",
    "\"\"\""
   ],
   "execution_count": null,
   "outputs": []
  },
  {
   "cell_type": "code",
   "metadata": {
    "colab": {
     "base_uri": "https://localhost:8080/"
    },
    "id": "tPpH6hakad3h",
    "executionInfo": {
     "status": "ok",
     "timestamp": 1606972856190,
     "user_tz": -540,
     "elapsed": 4426,
     "user": {
      "displayName": "JinUk Cho",
      "photoUrl": "",
      "userId": "10000090644219567406"
     }
    },
    "outputId": "6b470336-3a23-4e91-f457-28f13fed5dd9"
   },
   "source": [
    "from sklearn.metrics import classification_report\n",
    "\n",
    "y_true_naive = df['Class'].values\n",
    "# print(y_true.shape)\n",
    "x_t = df.drop(['Class'], axis=1).values\n",
    "y_pred_naive = naive_classify(x_t)\n",
    "print(classification_report(y_true_naive, y_pred_naive, target_names=['NotFraud', 'Fraud'], digits=4))"
   ],
   "execution_count": 127,
   "outputs": [
    {
     "output_type": "stream",
     "text": [
      "/usr/local/lib/python3.6/dist-packages/sklearn/metrics/_classification.py:1272: UndefinedMetricWarning: Precision and F-score are ill-defined and being set to 0.0 in labels with no predicted samples. Use `zero_division` parameter to control this behavior.\n",
      "  _warn_prf(average, modifier, msg_start, len(result))\n"
     ],
     "name": "stderr"
    },
    {
     "output_type": "stream",
     "text": [
      "              precision    recall  f1-score   support\n",
      "\n",
      "    NotFraud     0.9983    1.0000    0.9991    284315\n",
      "       Fraud     0.0000    0.0000    0.0000       492\n",
      "\n",
      "    accuracy                         0.9983    284807\n",
      "   macro avg     0.4991    0.5000    0.4996    284807\n",
      "weighted avg     0.9965    0.9983    0.9974    284807\n",
      "\n"
     ],
     "name": "stdout"
    }
   ]
  },
  {
   "cell_type": "markdown",
   "metadata": {
    "id": "uWiMyEsEYNzq"
   },
   "source": [
    "##Splitting to train and test\n"
   ]
  },
  {
   "cell_type": "code",
   "metadata": {
    "id": "frBcgILFYNzq",
    "colab": {
     "base_uri": "https://localhost:8080/"
    },
    "cellView": "code",
    "executionInfo": {
     "status": "ok",
     "timestamp": 1606975282748,
     "user_tz": -540,
     "elapsed": 62833,
     "user": {
      "displayName": "JinUk Cho",
      "photoUrl": "",
      "userId": "10000090644219567406"
     }
    },
    "outputId": "2ca6e0c0-5844-436b-8d30-92db1f23f554"
   },
   "source": [
    "#@title\n",
    "from sklearn.model_selection import train_test_split\n",
    "X = df.drop('Class', axis=1)\n",
    "y = df['Class']\n",
    "X_train,X_test,y_train,y_test=train_test_split(X,\n",
    "                                               y,\n",
    "                                               test_size=.2,\n",
    "                                               random_state=1,\n",
    "                                               stratify=y.to_numpy())\n",
    "\n",
    "fraud_X_train = X_train.values\n",
    "fraud_X_test = X_test.values\n",
    "fraud_y_train = y_train.values\n",
    "fraud_y_test = y_test.values\n",
    "\n",
    "# See if both the train and test label distribution are similarly distributed\n",
    "train_unique_label, train_counts_label = np.unique(fraud_y_train, return_counts=True)\n",
    "test_unique_label, test_counts_label = np.unique(fraud_y_test, return_counts=True)\n",
    "print('-' * 100)\n",
    "\n",
    "print('Label Distributions: \\n')\n",
    "print(train_counts_label/ len(fraud_y_train))\n",
    "print(test_counts_label/ len(fraud_y_test))"
   ],
   "execution_count": 239,
   "outputs": [
    {
     "output_type": "stream",
     "text": [
      "----------------------------------------------------------------------------------------------------\n",
      "Label Distributions: \n",
      "\n",
      "[0.99827075 0.00172925]\n",
      "[0.99827955 0.00172045]\n"
     ],
     "name": "stdout"
    }
   ]
  },
  {
   "cell_type": "code",
   "metadata": {
    "colab": {
     "base_uri": "https://localhost:8080/"
    },
    "id": "YSWlcggI8VFd",
    "executionInfo": {
     "status": "ok",
     "timestamp": 1606975282749,
     "user_tz": -540,
     "elapsed": 62820,
     "user": {
      "displayName": "JinUk Cho",
      "photoUrl": "",
      "userId": "10000090644219567406"
     }
    },
    "outputId": "b70d6998-29c1-4c33-a0f8-7030ba6a7f67"
   },
   "source": [
    "X_train.shape"
   ],
   "execution_count": 240,
   "outputs": [
    {
     "output_type": "execute_result",
     "data": {
      "text/plain": [
       "(227845, 30)"
      ]
     },
     "metadata": {
      "tags": []
     },
     "execution_count": 240
    }
   ]
  },
  {
   "cell_type": "code",
   "metadata": {
    "id": "Junily858XWF",
    "colab": {
     "base_uri": "https://localhost:8080/"
    },
    "executionInfo": {
     "status": "ok",
     "timestamp": 1606975282749,
     "user_tz": -540,
     "elapsed": 62814,
     "user": {
      "displayName": "JinUk Cho",
      "photoUrl": "",
      "userId": "10000090644219567406"
     }
    },
    "outputId": "c3f11574-722c-4cfa-8295-5387513834e6"
   },
   "source": [
    "y_train.shape"
   ],
   "execution_count": 241,
   "outputs": [
    {
     "output_type": "execute_result",
     "data": {
      "text/plain": [
       "(227845,)"
      ]
     },
     "metadata": {
      "tags": []
     },
     "execution_count": 241
    }
   ]
  },
  {
   "cell_type": "code",
   "metadata": {
    "colab": {
     "base_uri": "https://localhost:8080/"
    },
    "id": "kSgNeG6yicaP",
    "executionInfo": {
     "status": "ok",
     "timestamp": 1606975282751,
     "user_tz": -540,
     "elapsed": 62810,
     "user": {
      "displayName": "JinUk Cho",
      "photoUrl": "",
      "userId": "10000090644219567406"
     }
    },
    "outputId": "a7f354a4-7519-431a-e21e-53bac4ff9061"
   },
   "source": [
    "type(fraud_y_test)"
   ],
   "execution_count": 242,
   "outputs": [
    {
     "output_type": "execute_result",
     "data": {
      "text/plain": [
       "numpy.ndarray"
      ]
     },
     "metadata": {
      "tags": []
     },
     "execution_count": 242
    }
   ]
  },
  {
   "cell_type": "markdown",
   "metadata": {
    "id": "AZoH38HTFxHH"
   },
   "source": [
    "# Dealing with imbalanced dataset"
   ]
  },
  {
   "cell_type": "markdown",
   "metadata": {
    "id": "YjjdvavpYNzq"
   },
   "source": [
    "\n",
    "<h3> Resampling </h3>\n",
    "\n",
    "A widely adopted technique for dealing with highly unbalanced datasets is called resampling. It consists of removing samples from the majority class (under-sampling) and / or adding more examples from the minority class (over-sampling).\n",
    "\n",
    "![](https://raw.githubusercontent.com/rafjaa/machine_learning_fecib/master/src/static/img/resampling.png)"
   ]
  },
  {
   "cell_type": "markdown",
   "metadata": {
    "id": "ozmeq5ZXYNzr"
   },
   "source": [
    "## Resampling Techniques using sklearn"
   ]
  },
  {
   "cell_type": "code",
   "metadata": {
    "id": "ouE_dbAD-dPZ",
    "executionInfo": {
     "status": "ok",
     "timestamp": 1606975282751,
     "user_tz": -540,
     "elapsed": 62803,
     "user": {
      "displayName": "JinUk Cho",
      "photoUrl": "",
      "userId": "10000090644219567406"
     }
    }
   },
   "source": [
    "from sklearn.utils import resample"
   ],
   "execution_count": 243,
   "outputs": []
  },
  {
   "cell_type": "markdown",
   "metadata": {
    "id": "CrlpULpYYNzr"
   },
   "source": [
    "<div align='left'><font size='4' color=' #6c3483'> 1.Oversample minority class </font></div>\n"
   ]
  },
  {
   "cell_type": "markdown",
   "metadata": {
    "id": "RCDIUTZPYNzr"
   },
   "source": [
    "Oversampling can be defined as adding more copies of the minority class. Oversampling can be a good choice when you don’t have a ton of data to work with.\n",
    "\n",
    "We will use the resampling module from Scikit-Learn to randomly replicate samples from the minority class."
   ]
  },
  {
   "cell_type": "code",
   "metadata": {
    "cellView": "form",
    "id": "toIBmW1mYNzr",
    "colab": {
     "base_uri": "https://localhost:8080/"
    },
    "executionInfo": {
     "status": "ok",
     "timestamp": 1606975282751,
     "user_tz": -540,
     "elapsed": 62798,
     "user": {
      "displayName": "JinUk Cho",
      "photoUrl": "",
      "userId": "10000090644219567406"
     }
    },
    "outputId": "cbc4e8a9-a75b-490d-d9bc-205535a58d92"
   },
   "source": [
    "X=pd.concat([X_train,y_train],axis=1)\n",
    "\n",
    "not_fraud=X[X.Class==0]\n",
    "fraud=X[X.Class==1]\n",
    "\n",
    "# upsample minority\n",
    "fraud_upsampled = resample(fraud,\n",
    "                          replace=True, # sample with replacement\n",
    "                          n_samples=len(not_fraud), # match number in majority class\n",
    "                          random_state=27) # reproducible results\n",
    "\n",
    "# combine majority and upsampled minority\n",
    "upsampled = pd.concat([not_fraud, fraud_upsampled])\n",
    "\n",
    "# check new class counts\n",
    "upsampled.Class.value_counts()"
   ],
   "execution_count": 244,
   "outputs": [
    {
     "output_type": "execute_result",
     "data": {
      "text/plain": [
       "1    227451\n",
       "0    227451\n",
       "Name: Class, dtype: int64"
      ]
     },
     "metadata": {
      "tags": []
     },
     "execution_count": 244
    }
   ]
  },
  {
   "cell_type": "code",
   "metadata": {
    "cellView": "form",
    "id": "b1GbaKYoYNzr",
    "colab": {
     "base_uri": "https://localhost:8080/",
     "height": 299
    },
    "executionInfo": {
     "status": "ok",
     "timestamp": 1606975283197,
     "user_tz": -540,
     "elapsed": 63236,
     "user": {
      "displayName": "JinUk Cho",
      "photoUrl": "",
      "userId": "10000090644219567406"
     }
    },
    "outputId": "41265454-eca3-40b7-8881-ffd80757c635"
   },
   "source": [
    "y=upsampled.Class.value_counts()\n",
    "sns.barplot(y=y,x=[0,1])\n",
    "plt.title('upsampled data class count')\n",
    "plt.ylabel('count')"
   ],
   "execution_count": 245,
   "outputs": [
    {
     "output_type": "execute_result",
     "data": {
      "text/plain": [
       "Text(0, 0.5, 'count')"
      ]
     },
     "metadata": {
      "tags": []
     },
     "execution_count": 245
    },
    {
     "output_type": "display_data",
     "data": {
      "image/png": "[encoded data removed]",
      "text/plain": [
       "<Figure size 432x288 with 1 Axes>"
      ]
     },
     "metadata": {
      "tags": [],
      "needs_background": "light"
     }
    }
   ]
  },
  {
   "cell_type": "markdown",
   "metadata": {
    "id": "Ed86Vb8pYNzr"
   },
   "source": [
    "<div align='left'><font size='4' color=' #6c3483'>  2. Undersample majority class </font></div>\n"
   ]
  },
  {
   "cell_type": "markdown",
   "metadata": {
    "id": "4msY_SOAYNzr"
   },
   "source": [
    "Undersampling can be defined as removing some observations of the majority class. Undersampling can be a good choice when you have a ton of data -think millions of rows. But a drawback is that we are removing information that may be valuable. This could lead to underfitting and poor generalization to the test set.\n",
    "\n"
   ]
  },
  {
   "cell_type": "code",
   "metadata": {
    "cellView": "form",
    "id": "yn5IW1yNYNzr",
    "colab": {
     "base_uri": "https://localhost:8080/"
    },
    "executionInfo": {
     "status": "ok",
     "timestamp": 1606975283198,
     "user_tz": -540,
     "elapsed": 63229,
     "user": {
      "displayName": "JinUk Cho",
      "photoUrl": "",
      "userId": "10000090644219567406"
     }
    },
    "outputId": "29b9e829-4e00-48e0-c39a-65120e84beb7"
   },
   "source": [
    "not_fraud_downsampled = resample(not_fraud,\n",
    "                                replace = False, # sample without replacement\n",
    "                                n_samples = len(fraud), # match minority n\n",
    "                                random_state = 27) # reproducible results\n",
    "\n",
    "# combine minority and downsampled majority\n",
    "downsampled = pd.concat([not_fraud_downsampled, fraud])\n",
    "\n",
    "# checking counts\n",
    "downsampled.Class.value_counts()"
   ],
   "execution_count": 246,
   "outputs": [
    {
     "output_type": "execute_result",
     "data": {
      "text/plain": [
       "1    394\n",
       "0    394\n",
       "Name: Class, dtype: int64"
      ]
     },
     "metadata": {
      "tags": []
     },
     "execution_count": 246
    }
   ]
  },
  {
   "cell_type": "code",
   "metadata": {
    "cellView": "form",
    "id": "lgubpAh_YNzr",
    "colab": {
     "base_uri": "https://localhost:8080/",
     "height": 299
    },
    "executionInfo": {
     "status": "ok",
     "timestamp": 1606975283198,
     "user_tz": -540,
     "elapsed": 63223,
     "user": {
      "displayName": "JinUk Cho",
      "photoUrl": "",
      "userId": "10000090644219567406"
     }
    },
    "outputId": "e9d1757c-b9b2-4f9e-d1df-be8c0cc0a617"
   },
   "source": [
    "y=downsampled.Class.value_counts()\n",
    "sns.barplot(y=y,x=[0,1])\n",
    "plt.title('downsampled data class count')\n",
    "plt.ylabel('count')"
   ],
   "execution_count": 247,
   "outputs": [
    {
     "output_type": "execute_result",
     "data": {
      "text/plain": [
       "Text(0, 0.5, 'count')"
      ]
     },
     "metadata": {
      "tags": []
     },
     "execution_count": 247
    },
    {
     "output_type": "display_data",
     "data": {
      "image/png": "[encoded data removed]",
      "text/plain": [
       "<Figure size 432x288 with 1 Axes>"
      ]
     },
     "metadata": {
      "tags": [],
      "needs_background": "light"
     }
    }
   ]
  },
  {
   "cell_type": "markdown",
   "metadata": {
    "id": "feHuK_BL722y"
   },
   "source": [
    "# Exercise 1. Build simple pytorch training funtion "
   ]
  },
  {
   "cell_type": "code",
   "metadata": {
    "id": "10qk4BYBF61A",
    "executionInfo": {
     "status": "ok",
     "timestamp": 1606977530876,
     "user_tz": -540,
     "elapsed": 706,
     "user": {
      "displayName": "JinUk Cho",
      "photoUrl": "",
      "userId": "10000090644219567406"
     }
    }
   },
   "source": [
    "import torch\n",
    "import torch.nn as nn\n",
    "from torch.utils.data import DataLoader, TensorDataset\n",
    "import torch.optim as optim\n",
    "\n",
    "def train_NN(X_train, y_train, X_test, y_test):\n",
    "    \"\"\"\n",
    "    params X_train, y_train, X_test, y_test (array-like): numpy array type dataset\n",
    "\n",
    "        - It is simple dataset so you don't need to build \"class Dataset\"\n",
    "          use torch.utils.data.TensorDataset after tensorize your data\n",
    "\n",
    "        - your model's first layer should have same size with input feautures \n",
    "          (we call this variable as input_dim or input_size)\n",
    "\n",
    "        - print 'loss of every epoch, and classification report' \n",
    "    \n",
    "    return nothing (void)\n",
    "    \"\"\"\n",
    "    tensorx = torch.tensor(X_train, dtype=torch.float)\n",
    "    tensory = torch.tensor(y_train, dtype=torch.float)\n",
    "\n",
    "    ds = TensorDataset(tensorx, tensory)\n",
    "    dl = DataLoader(ds, batch_size=256, shuffle=True)\n",
    "\n",
    "    input_size = tensorx.size(1)\n",
    "    \n",
    "    model = nn.Sequential(nn.Linear(input_size, 256),\n",
    "                          nn.ReLU(),\n",
    "                          nn.Dropout(),\n",
    "                          nn.Linear(256, 64),\n",
    "                          nn.ReLU(),\n",
    "                          nn.Dropout(),\n",
    "                          nn.Linear(64, 16),\n",
    "                          nn.ReLU(),\n",
    "                          nn.LayerNorm(16),\n",
    "                          nn.Dropout(),\n",
    "                          nn.Linear(16, 1),\n",
    "                          nn.Sigmoid())\n",
    "    criterion = nn.MSELoss()\n",
    "    optimizer = optim.AdamW(model.parameters(), lr=1e-3)\n",
    "\n",
    "    n_epoch = 5\n",
    "    for ep in range(n_epoch):\n",
    "        loss_total = 0\n",
    "        for x_batch, y_batch in dl:\n",
    "            pred = model(x_batch)\n",
    "            # print(f\"x_batch {x_batch.shape} y {y_batch.shape}\")\n",
    "            loss = criterion(pred.squeeze(), y_batch)\n",
    "            \n",
    "            optimizer.zero_grad()\n",
    "            loss.backward()\n",
    "            optimizer.step()\n",
    "            loss_total += loss\n",
    "        print(f\"{ep} epoch loss {loss_total / len(dl)}\")\n",
    "    \n",
    "    xt = torch.tensor(X_test, dtype=torch.float)\n",
    "    y_pred = model(xt)\n",
    "    y_pred = np.array([1 if pred > 0.5 else 0 for pred in y_pred.detach().squeeze().tolist()])\n",
    "    print(classification_report(y_test, y_pred, target_names=['NotFraud', 'Fraud'], digits=4))\n"
   ],
   "execution_count": 249,
   "outputs": []
  },
  {
   "cell_type": "code",
   "metadata": {
    "id": "dEQsHMlcmCLm",
    "colab": {
     "base_uri": "https://localhost:8080/"
    },
    "executionInfo": {
     "status": "ok",
     "timestamp": 1606977587363,
     "user_tz": -540,
     "elapsed": 57184,
     "user": {
      "displayName": "JinUk Cho",
      "photoUrl": "",
      "userId": "10000090644219567406"
     }
    },
    "outputId": "b01059b6-bc03-4d0d-b634-2f9aeb18e1ee"
   },
   "source": [
    "train_NN(upsampled.drop(['Class'], axis=1).to_numpy(), upsampled['Class'].to_numpy(),  fraud_X_test, fraud_y_test)"
   ],
   "execution_count": 250,
   "outputs": [
    {
     "output_type": "stream",
     "text": [
      "0 epoch loss 0.025090090930461884\n",
      "1 epoch loss 0.009696544148027897\n",
      "2 epoch loss 0.008632912300527096\n",
      "3 epoch loss 0.008170575834810734\n",
      "4 epoch loss 0.007922828197479248\n",
      "              precision    recall  f1-score   support\n",
      "\n",
      "    NotFraud     0.9998    0.9971    0.9985     56864\n",
      "       Fraud     0.3504    0.9082    0.5057        98\n",
      "\n",
      "    accuracy                         0.9969     56962\n",
      "   macro avg     0.6751    0.9526    0.7521     56962\n",
      "weighted avg     0.9987    0.9969    0.9976     56962\n",
      "\n"
     ],
     "name": "stdout"
    }
   ]
  },
  {
   "cell_type": "code",
   "metadata": {
    "id": "MkcZquj3K3ae",
    "colab": {
     "base_uri": "https://localhost:8080/"
    },
    "executionInfo": {
     "status": "ok",
     "timestamp": 1606977587703,
     "user_tz": -540,
     "elapsed": 57512,
     "user": {
      "displayName": "JinUk Cho",
      "photoUrl": "",
      "userId": "10000090644219567406"
     }
    },
    "outputId": "a3e21ecb-f4fe-47b4-8605-2f88a327b10f"
   },
   "source": [
    "train_NN(not_fraud_downsampled.drop(['Class'], axis=1).to_numpy(), not_fraud_downsampled['Class'].to_numpy(),  fraud_X_test, fraud_y_test)"
   ],
   "execution_count": 251,
   "outputs": [
    {
     "output_type": "stream",
     "text": [
      "0 epoch loss 0.24467238783836365\n",
      "1 epoch loss 0.1447943150997162\n",
      "2 epoch loss 0.10865244269371033\n",
      "3 epoch loss 0.09105587750673294\n",
      "4 epoch loss 0.080430768430233\n",
      "              precision    recall  f1-score   support\n",
      "\n",
      "    NotFraud     0.9983    0.9612    0.9794     56864\n",
      "       Fraud     0.0014    0.0306    0.0026        98\n",
      "\n",
      "    accuracy                         0.9596     56962\n",
      "   macro avg     0.4998    0.4959    0.4910     56962\n",
      "weighted avg     0.9965    0.9596    0.9777     56962\n",
      "\n"
     ],
     "name": "stdout"
    }
   ]
  },
  {
   "cell_type": "markdown",
   "metadata": {
    "id": "u_VLKR2HH8o9"
   },
   "source": [
    "# New dataset"
   ]
  },
  {
   "cell_type": "code",
   "metadata": {
    "id": "e5GmIh4Zsjtj",
    "colab": {
     "base_uri": "https://localhost:8080/",
     "height": 314
    },
    "executionInfo": {
     "status": "ok",
     "timestamp": 1606977588184,
     "user_tz": -540,
     "elapsed": 57980,
     "user": {
      "displayName": "JinUk Cho",
      "photoUrl": "",
      "userId": "10000090644219567406"
     }
    },
    "outputId": "284b60b6-7ffa-4d79-effe-2d5bebd875e8"
   },
   "source": [
    "from sklearn.datasets import make_classification\n",
    "\n",
    "X, y = make_classification(\n",
    "    n_classes=2, n_features=20, weights=[0.95, 0.05], n_samples=10000,\n",
    "    n_informative=3, class_sep=2.0, flip_y=0, random_state=10\n",
    ")\n",
    "X_train,X_test,y_train,y_test=train_test_split(X,\n",
    "                                               y,\n",
    "                                               test_size=.2,\n",
    "                                               random_state=1,\n",
    "                                               stratify=y)\n",
    "print(type(X))\n",
    "ndf = pd.DataFrame(X)\n",
    "ndf['target'] = y\n",
    "ndf.target.value_counts().plot(kind='bar', title='Count (target)')"
   ],
   "execution_count": 252,
   "outputs": [
    {
     "output_type": "stream",
     "text": [
      "<class 'numpy.ndarray'>\n"
     ],
     "name": "stdout"
    },
    {
     "output_type": "execute_result",
     "data": {
      "text/plain": [
       "<matplotlib.axes._subplots.AxesSubplot at 0x7fd2f4713b38>"
      ]
     },
     "metadata": {
      "tags": []
     },
     "execution_count": 252
    },
    {
     "output_type": "display_data",
     "data": {
      "image/png": "[encoded data removed]",
      "text/plain": [
       "<Figure size 432x288 with 1 Axes>"
      ]
     },
     "metadata": {
      "tags": [],
      "needs_background": "light"
     }
    }
   ]
  },
  {
   "cell_type": "code",
   "metadata": {
    "id": "0Ab_4-OVsg0V",
    "executionInfo": {
     "status": "ok",
     "timestamp": 1606977588185,
     "user_tz": -540,
     "elapsed": 57970,
     "user": {
      "displayName": "JinUk Cho",
      "photoUrl": "",
      "userId": "10000090644219567406"
     }
    }
   },
   "source": [
    "def plot_2d_space(X_train, y_train,X=X,y=y,label='Classes', scale=2):   \n",
    "    colors = ['#1F77B4', '#FF7F0E']\n",
    "    markers = ['o', 's']\n",
    "    \n",
    "    fig,(ax1,ax2)=plt.subplots(1,2, figsize=(8,4))\n",
    "   \n",
    "    for l, c, m in zip(np.unique(y), colors, markers):\n",
    "        ax1.scatter(\n",
    "            X_train[y_train==l, 0],\n",
    "            X_train[y_train==l, 1],\n",
    "            c=c, label=l, marker=m, s=scale\n",
    "        )\n",
    "    for l, c, m in zip(np.unique(y), colors, markers):\n",
    "        ax2.scatter(\n",
    "            X[y==l, 0],\n",
    "            X[y==l, 1],\n",
    "            c=c, label=l, marker=m, s=scale\n",
    "        )\n",
    "   \n",
    "    ax1.set_title(label)\n",
    "    ax2.set_title('fraud data')\n",
    "    plt.legend(loc='upper right')\n",
    "    plt.show()\n"
   ],
   "execution_count": 253,
   "outputs": []
  },
  {
   "cell_type": "markdown",
   "metadata": {
    "id": "eIqwRqvnYNzr"
   },
   "source": [
    "\n",
    "## Python imbalanced-learn module\n",
    "\n",
    "\n",
    "\n",
    "Let's apply some of these resampling techniques, using the Python library imbalanced-learn. It is compatible with scikit-learn and is part of scikit-learn-contrib projects.\n"
   ]
  },
  {
   "cell_type": "code",
   "metadata": {
    "cellView": "form",
    "id": "bQO-zSFBYNzr",
    "executionInfo": {
     "status": "ok",
     "timestamp": 1606977588187,
     "user_tz": -540,
     "elapsed": 57967,
     "user": {
      "displayName": "JinUk Cho",
      "photoUrl": "",
      "userId": "10000090644219567406"
     }
    }
   },
   "source": [
    "import imblearn"
   ],
   "execution_count": 254,
   "outputs": []
  },
  {
   "cell_type": "markdown",
   "metadata": {
    "id": "wSVzDJYCYNzr"
   },
   "source": [
    "<div align='left'><font size='4' color=' #6c3483'>  Random under-sampling  with imbalanced-learn </font></div>\n",
    "\n"
   ]
  },
  {
   "cell_type": "code",
   "metadata": {
    "cellView": "form",
    "id": "CjYndeM7YNzr",
    "colab": {
     "base_uri": "https://localhost:8080/",
     "height": 335
    },
    "executionInfo": {
     "status": "ok",
     "timestamp": 1606977588902,
     "user_tz": -540,
     "elapsed": 58671,
     "user": {
      "displayName": "JinUk Cho",
      "photoUrl": "",
      "userId": "10000090644219567406"
     }
    },
    "outputId": "4a7e7caa-1cb8-482e-b516-e085a40f43fd"
   },
   "source": [
    "from imblearn.under_sampling import RandomUnderSampler\n",
    "\n",
    "ran=RandomUnderSampler(return_indices=True) ##intialize to return indices of dropped rows\n",
    "X_rus,y_rus,dropped = ran.fit_sample(X_train,y_train)\n",
    "\n",
    "print(\"The number of removed indices are \",len(dropped))\n",
    "plot_2d_space(X_rus,y_rus,X,y,'Random under sampling')"
   ],
   "execution_count": 255,
   "outputs": [
    {
     "output_type": "stream",
     "text": [
      "The number of removed indices are  800\n"
     ],
     "name": "stdout"
    },
    {
     "output_type": "stream",
     "text": [
      "/usr/local/lib/python3.6/dist-packages/sklearn/utils/deprecation.py:87: FutureWarning: Function safe_indexing is deprecated; safe_indexing is deprecated in version 0.22 and will be removed in version 0.24.\n",
      "  warnings.warn(msg, category=FutureWarning)\n"
     ],
     "name": "stderr"
    },
    {
     "output_type": "display_data",
     "data": {
      "image/png": "[encoded data removed]",
      "text/plain": [
       "<Figure size 576x288 with 2 Axes>"
      ]
     },
     "metadata": {
      "tags": [],
      "needs_background": "light"
     }
    }
   ]
  },
  {
   "cell_type": "markdown",
   "metadata": {
    "id": "iQT1cpOHYNzr"
   },
   "source": [
    "- Let's try fit and predict on this data and observe the outcome."
   ]
  },
  {
   "cell_type": "markdown",
   "metadata": {
    "id": "7oimDkZhYNzs"
   },
   "source": [
    "<div align='left'><font size='4' color=' #6c3483'>  Random over-sampling  with imbalanced-learn </font></div>\n",
    "\n"
   ]
  },
  {
   "cell_type": "code",
   "metadata": {
    "cellView": "form",
    "id": "nNaxf1yLYNzs",
    "colab": {
     "base_uri": "https://localhost:8080/",
     "height": 335
    },
    "executionInfo": {
     "status": "ok",
     "timestamp": 1606977588903,
     "user_tz": -540,
     "elapsed": 58660,
     "user": {
      "displayName": "JinUk Cho",
      "photoUrl": "",
      "userId": "10000090644219567406"
     }
    },
    "outputId": "8ac9f53b-b525-412f-f2f9-e34cea68c3f8"
   },
   "source": [
    "from imblearn.over_sampling import RandomOverSampler\n",
    "\n",
    "ran=RandomOverSampler()\n",
    "X_ros,y_ros= ran.fit_resample(X_train,y_train)\n",
    "\n",
    "print('The new data contains {} rows '.format(X_ros.shape[0]))\n",
    "\n",
    "plot_2d_space(X_ros,y_ros,X,y,'over-sampled')"
   ],
   "execution_count": 256,
   "outputs": [
    {
     "output_type": "stream",
     "text": [
      "/usr/local/lib/python3.6/dist-packages/sklearn/utils/deprecation.py:87: FutureWarning: Function safe_indexing is deprecated; safe_indexing is deprecated in version 0.22 and will be removed in version 0.24.\n",
      "  warnings.warn(msg, category=FutureWarning)\n"
     ],
     "name": "stderr"
    },
    {
     "output_type": "stream",
     "text": [
      "The new data contains 15200 rows \n"
     ],
     "name": "stdout"
    },
    {
     "output_type": "display_data",
     "data": {
      "image/png": "[encoded data removed]",
      "text/plain": [
       "<Figure size 576x288 with 2 Axes>"
      ]
     },
     "metadata": {
      "tags": [],
      "needs_background": "light"
     }
    }
   ]
  },
  {
   "cell_type": "markdown",
   "metadata": {
    "id": "CghonnGqYNzs"
   },
   "source": [
    "\n",
    "## Under-sampling: Tomek links\n",
    "\n",
    "Tomek links are pairs of very close instances, but of opposite classes. Removing the instances of the majority class of each pair increases the space between the two classes, facilitating the classification process.\n",
    "\n",
    "![](https://raw.githubusercontent.com/rafjaa/machine_learning_fecib/master/src/static/img/tomek.png?v=2)"
   ]
  },
  {
   "cell_type": "code",
   "metadata": {
    "cellView": "form",
    "id": "-pqd9PbpYNzs",
    "colab": {
     "base_uri": "https://localhost:8080/",
     "height": 371
    },
    "executionInfo": {
     "status": "ok",
     "timestamp": 1606977591182,
     "user_tz": -540,
     "elapsed": 60925,
     "user": {
      "displayName": "JinUk Cho",
      "photoUrl": "",
      "userId": "10000090644219567406"
     }
    },
    "outputId": "e5e9c316-cd04-4a0c-f138-90eb5eb82f3d"
   },
   "source": [
    "from imblearn.under_sampling import TomekLinks\n",
    "\n",
    "tl = TomekLinks(return_indices=True, ratio='majority')\n",
    "X_tl, y_tl, id_tl = tl.fit_sample(X_train,y_train)\n",
    "print(X.shape)\n",
    "print(X_tl.shape)\n",
    "\n",
    "print('Remaining indices:', len(id_tl))\n",
    "\n",
    "plot_2d_space(X_tl, y_tl,X,y, 'Tomek links under-sampling')"
   ],
   "execution_count": 257,
   "outputs": [
    {
     "output_type": "stream",
     "text": [
      "/usr/local/lib/python3.6/dist-packages/sklearn/utils/deprecation.py:87: FutureWarning: Function safe_indexing is deprecated; safe_indexing is deprecated in version 0.22 and will be removed in version 0.24.\n",
      "  warnings.warn(msg, category=FutureWarning)\n"
     ],
     "name": "stderr"
    },
    {
     "output_type": "stream",
     "text": [
      "(10000, 20)\n",
      "(7994, 20)\n",
      "Remaining indices: 7994\n"
     ],
     "name": "stdout"
    },
    {
     "output_type": "display_data",
     "data": {
      "image/png": "[encoded data removed]",
      "text/plain": [
       "<Figure size 576x288 with 2 Axes>"
      ]
     },
     "metadata": {
      "tags": [],
      "needs_background": "light"
     }
    }
   ]
  },
  {
   "cell_type": "markdown",
   "metadata": {
    "id": "Zy51gLduYNzs"
   },
   "source": [
    "## Over-sampling: SMOTE\n",
    "\n"
   ]
  },
  {
   "cell_type": "markdown",
   "metadata": {
    "id": "zzU4ViHGYNzs"
   },
   "source": [
    "\n",
    "\n",
    "\n",
    "\n",
    "SMOTE (Synthetic Minority Oversampling TEchnique) consists of synthesizing elements for the minority class, based on those that already exist. It works randomly picingk a point from the minority class and computing the k-nearest neighbors for this point. The synthetic points are added between the chosen point and its neighbors.\n",
    "\n",
    "![](https://raw.githubusercontent.com/rafjaa/machine_learning_fecib/master/src/static/img/smote.png)\n"
   ]
  },
  {
   "cell_type": "code",
   "metadata": {
    "cellView": "form",
    "id": "SZK4-IUXYNzs",
    "colab": {
     "base_uri": "https://localhost:8080/",
     "height": 317
    },
    "executionInfo": {
     "status": "ok",
     "timestamp": 1606977591608,
     "user_tz": -540,
     "elapsed": 61336,
     "user": {
      "displayName": "JinUk Cho",
      "photoUrl": "",
      "userId": "10000090644219567406"
     }
    },
    "outputId": "e64301da-41a3-415d-b6ad-65633607ea76"
   },
   "source": [
    "from imblearn.over_sampling import SMOTE\n",
    "\n",
    "smote = SMOTE(ratio='minority')\n",
    "X_sm, y_sm = smote.fit_sample(X_train,y_train)\n",
    "\n",
    "plot_2d_space(X_sm, y_sm,X,y, 'SMOTE over-sampling')"
   ],
   "execution_count": 258,
   "outputs": [
    {
     "output_type": "stream",
     "text": [
      "/usr/local/lib/python3.6/dist-packages/sklearn/utils/deprecation.py:87: FutureWarning: Function safe_indexing is deprecated; safe_indexing is deprecated in version 0.22 and will be removed in version 0.24.\n",
      "  warnings.warn(msg, category=FutureWarning)\n"
     ],
     "name": "stderr"
    },
    {
     "output_type": "display_data",
     "data": {
      "image/png": "[encoded data removed]",
      "text/plain": [
       "<Figure size 576x288 with 2 Axes>"
      ]
     },
     "metadata": {
      "tags": [],
      "needs_background": "light"
     }
    }
   ]
  },
  {
   "cell_type": "code",
   "metadata": {
    "id": "Mgm0PU7qYNzs"
   },
   "source": [
    "Let's try fit and predict on this data and observe the outcome."
   ],
   "execution_count": null,
   "outputs": []
  },
  {
   "cell_type": "markdown",
   "metadata": {
    "id": "Y4YQjsbCIJoO"
   },
   "source": [
    "# Exercise 2. Test sampling techniques by your own model."
   ]
  },
  {
   "cell_type": "code",
   "metadata": {
    "colab": {
     "base_uri": "https://localhost:8080/"
    },
    "id": "DK-43ftbw88M",
    "executionInfo": {
     "status": "ok",
     "timestamp": 1606977591875,
     "user_tz": -540,
     "elapsed": 61581,
     "user": {
      "displayName": "JinUk Cho",
      "photoUrl": "",
      "userId": "10000090644219567406"
     }
    },
    "outputId": "1743fc26-78f5-4934-bcdf-1ee375b36728"
   },
   "source": [
    "train_NN(X_rus, y_rus, X_test, y_test)"
   ],
   "execution_count": 260,
   "outputs": [
    {
     "output_type": "stream",
     "text": [
      "0 epoch loss 0.2552854120731354\n",
      "1 epoch loss 0.2137138545513153\n",
      "2 epoch loss 0.1961638182401657\n",
      "3 epoch loss 0.15775355696678162\n",
      "4 epoch loss 0.1357286423444748\n",
      "              precision    recall  f1-score   support\n",
      "\n",
      "    NotFraud     0.9925    0.9079    0.9483      1900\n",
      "       Fraud     0.3321    0.8700    0.4807       100\n",
      "\n",
      "    accuracy                         0.9060      2000\n",
      "   macro avg     0.6623    0.8889    0.7145      2000\n",
      "weighted avg     0.9595    0.9060    0.9249      2000\n",
      "\n"
     ],
     "name": "stdout"
    }
   ]
  },
  {
   "cell_type": "code",
   "metadata": {
    "colab": {
     "base_uri": "https://localhost:8080/"
    },
    "id": "qp8kSAYExB4f",
    "executionInfo": {
     "status": "ok",
     "timestamp": 1606977593709,
     "user_tz": -540,
     "elapsed": 63406,
     "user": {
      "displayName": "JinUk Cho",
      "photoUrl": "",
      "userId": "10000090644219567406"
     }
    },
    "outputId": "f2bfd7b0-4553-4fbd-89c1-3e198de0d6f8"
   },
   "source": [
    "train_NN(X_ros, y_ros, X_test, y_test)"
   ],
   "execution_count": 261,
   "outputs": [
    {
     "output_type": "stream",
     "text": [
      "0 epoch loss 0.09070645272731781\n",
      "1 epoch loss 0.027772750705480576\n",
      "2 epoch loss 0.018935147672891617\n",
      "3 epoch loss 0.014761491678655148\n",
      "4 epoch loss 0.01256021298468113\n",
      "              precision    recall  f1-score   support\n",
      "\n",
      "    NotFraud     0.9979    0.9863    0.9921      1900\n",
      "       Fraud     0.7869    0.9600    0.8649       100\n",
      "\n",
      "    accuracy                         0.9850      2000\n",
      "   macro avg     0.8924    0.9732    0.9285      2000\n",
      "weighted avg     0.9873    0.9850    0.9857      2000\n",
      "\n"
     ],
     "name": "stdout"
    }
   ]
  },
  {
   "cell_type": "code",
   "metadata": {
    "colab": {
     "base_uri": "https://localhost:8080/"
    },
    "id": "AFSVZJQ3xCum",
    "executionInfo": {
     "status": "ok",
     "timestamp": 1606977594709,
     "user_tz": -540,
     "elapsed": 64397,
     "user": {
      "displayName": "JinUk Cho",
      "photoUrl": "",
      "userId": "10000090644219567406"
     }
    },
    "outputId": "eab77801-4169-46b0-c311-342f23eb8d78"
   },
   "source": [
    "train_NN(X_tl, y_tl, X_test, y_test)"
   ],
   "execution_count": 262,
   "outputs": [
    {
     "output_type": "stream",
     "text": [
      "0 epoch loss 0.08096705377101898\n",
      "1 epoch loss 0.05247274786233902\n",
      "2 epoch loss 0.05038968846201897\n",
      "3 epoch loss 0.048193808645009995\n",
      "4 epoch loss 0.04117647930979729\n",
      "              precision    recall  f1-score   support\n",
      "\n",
      "    NotFraud     0.9596    0.9995    0.9791      1900\n",
      "       Fraud     0.9524    0.2000    0.3306       100\n",
      "\n",
      "    accuracy                         0.9595      2000\n",
      "   macro avg     0.9560    0.5997    0.6548      2000\n",
      "weighted avg     0.9592    0.9595    0.9467      2000\n",
      "\n"
     ],
     "name": "stdout"
    }
   ]
  },
  {
   "cell_type": "code",
   "metadata": {
    "colab": {
     "base_uri": "https://localhost:8080/"
    },
    "id": "O49AhnBjxEIX",
    "executionInfo": {
     "status": "ok",
     "timestamp": 1606977596554,
     "user_tz": -540,
     "elapsed": 66236,
     "user": {
      "displayName": "JinUk Cho",
      "photoUrl": "",
      "userId": "10000090644219567406"
     }
    },
    "outputId": "e52ca3a6-806d-402e-88b0-40de790d0cf8"
   },
   "source": [
    "train_NN(X_sm, y_sm, X_test, y_test)"
   ],
   "execution_count": 263,
   "outputs": [
    {
     "output_type": "stream",
     "text": [
      "0 epoch loss 0.09605482965707779\n",
      "1 epoch loss 0.024626020342111588\n",
      "2 epoch loss 0.014445969834923744\n",
      "3 epoch loss 0.010419757105410099\n",
      "4 epoch loss 0.008607820607721806\n",
      "              precision    recall  f1-score   support\n",
      "\n",
      "    NotFraud     0.9979    0.9963    0.9971      1900\n",
      "       Fraud     0.9320    0.9600    0.9458       100\n",
      "\n",
      "    accuracy                         0.9945      2000\n",
      "   macro avg     0.9650    0.9782    0.9715      2000\n",
      "weighted avg     0.9946    0.9945    0.9945      2000\n",
      "\n"
     ],
     "name": "stdout"
    }
   ]
  },
  {
   "cell_type": "markdown",
   "metadata": {
    "id": "b05dbnQfWPMF"
   },
   "source": [
    "# THINKING - Apply it to what we have learned"
   ]
  },
  {
   "cell_type": "markdown",
   "metadata": {
    "id": "MifdkX1MYA6I"
   },
   "source": [
    "## Image Data Augmentation\n",
    "\n",
    "Can be treated as oversampling techniques"
   ]
  },
  {
   "cell_type": "code",
   "metadata": {
    "id": "Yd8egbshYA6I"
   },
   "source": [
    "torchvision.transforms \n",
    "\n",
    "A = transforms.Compose(\n",
    "        [transforms.RandomResizedCrop(224),\n",
    "         transforms.RandomHorizontalFlip(),\n",
    "         transforms.ToTensor(),\n",
    "         transforms.Normalize(mean=[0.485, 0.456, 0.406],\n",
    "                              std=[0.229, 0.224, 0.225]),\n",
    "         ])\n",
    "\n",
    "B = transforms.Compose(\n",
    "        [transforms.CenterCrop(10),\n",
    "         transforms.RandomAffine(),\n",
    "         transforms.ToTensor(),\n",
    "         transforms.Normalize(mean=[0.485, 0.456, 0.406],\n",
    "                              std=[0.229, 0.224, 0.225]),\n",
    "         ])\n",
    "\n",
    "data1 = datasets.ImageFolder(root=root_path + dir, transform=A)\n",
    "data2 = datasets.ImageFolder(root=root_path + dir, transform=B)"
   ],
   "execution_count": null,
   "outputs": []
  },
  {
   "cell_type": "markdown",
   "metadata": {
    "id": "7XaIddrfWXRb"
   },
   "source": [
    "## Text Data Augmentation"
   ]
  },
  {
   "cell_type": "code",
   "metadata": {
    "id": "70aAB80-YA6I"
   },
   "source": [
    "!pip install textaugment >> /dev/null 2>&1"
   ],
   "execution_count": null,
   "outputs": []
  },
  {
   "cell_type": "code",
   "metadata": {
    "colab": {
     "base_uri": "https://localhost:8080/"
    },
    "id": "gDh70akpXH4c",
    "executionInfo": {
     "status": "ok",
     "timestamp": 1606978198362,
     "user_tz": -540,
     "elapsed": 824,
     "user": {
      "displayName": "JinUk Cho",
      "photoUrl": "",
      "userId": "10000090644219567406"
     }
    },
    "outputId": "68ddcd3b-cbb8-4d48-ac46-cc8803f9a222"
   },
   "source": [
    "import nltk\n",
    "nltk.download('punkt')\n",
    "nltk.download('wordnet')\n",
    "nltk.download('averaged_perceptron_tagger')\n",
    "from textaugment import Wordnet"
   ],
   "execution_count": null,
   "outputs": [
    {
     "output_type": "stream",
     "text": [
      "[nltk_data] Downloading package punkt to /root/nltk_data...\n",
      "[nltk_data]   Package punkt is already up-to-date!\n",
      "[nltk_data] Downloading package wordnet to /root/nltk_data...\n",
      "[nltk_data]   Package wordnet is already up-to-date!\n",
      "[nltk_data] Downloading package averaged_perceptron_tagger to\n",
      "[nltk_data]     /root/nltk_data...\n",
      "[nltk_data]   Unzipping taggers/averaged_perceptron_tagger.zip.\n"
     ],
     "name": "stdout"
    }
   ]
  },
  {
   "cell_type": "code",
   "metadata": {
    "id": "D0VKOg5-W5BV"
   },
   "source": [
    "ex = 'In the afternoon, John is going to town'"
   ],
   "execution_count": null,
   "outputs": []
  },
  {
   "cell_type": "code",
   "metadata": {
    "colab": {
     "base_uri": "https://localhost:8080/",
     "height": 36
    },
    "id": "i7LaAOS5W9mi",
    "executionInfo": {
     "status": "ok",
     "timestamp": 1606978292496,
     "user_tz": -540,
     "elapsed": 1663,
     "user": {
      "displayName": "JinUk Cho",
      "photoUrl": "",
      "userId": "10000090644219567406"
     }
    },
    "outputId": "673bb42c-3f83-405f-e698-849d4bc07364"
   },
   "source": [
    "t = Wordnet(v=True ,n=True, p=0.9)\n",
    "t.augment(ex)"
   ],
   "execution_count": null,
   "outputs": [
    {
     "output_type": "execute_result",
     "data": {
      "application/vnd.google.colaboratory.intrinsic+json": {
       "type": "string"
      },
      "text/plain": [
       "'in the afternoon, john equal travel to township'"
      ]
     },
     "metadata": {
      "tags": []
     },
     "execution_count": 58
    }
   ]
  },
  {
   "cell_type": "code",
   "metadata": {
    "id": "4mRUFqd1XaK-"
   },
   "source": [
    ""
   ],
   "execution_count": null,
   "outputs": []
  },
  {
   "cell_type": "markdown",
   "metadata": {
    "id": "Ry3jPkstYNzs"
   },
   "source": [
    "# Question\n"
   ]
  },
  {
   "cell_type": "code",
   "metadata": {
    "id": "f1F1qZW2xNdo",
    "executionInfo": {
     "status": "ok",
     "timestamp": 1606977596556,
     "user_tz": -540,
     "elapsed": 66222,
     "user": {
      "displayName": "JinUk Cho",
      "photoUrl": "",
      "userId": "10000090644219567406"
     }
    }
   },
   "source": [
    "# 1. 딥러닝 모델들은 high variance? high bias?\n",
    "#     - high variance, low bias 니깐 \n",
    "# 2. 딥러닝 모델들은 왜 cross validation 안할까?\n",
    "#     - 그러면 딥러닝 모델을 k fold 횟수만큼 선언하고 그만큼 훈련하고 평가해야하기 때문에 너무 큰 비용이듬\n",
    "#     - 비슷한 이유로 앙상블도 처음부터 쓰이진 않음\n",
    "# 3. 우리가 많이 배운 이미지, 텍스트는 sampling 기법 어떻게 적용할 수 있을까?\n",
    "#     - 이미지는 대부분의 sampling 기법 적용가능한 것으로 알고잇음.\n",
    "#     - 텍스트는 할거면 instance(doc, sentence, etc) 를 각각 임베딩해서 사용해야 할듯\n",
    "# 4. 주의해야할 점?\n",
    "# 5. 왜 sub sampling 을 해야하냐 \n",
    "#     -  https://www.quora.com/In-Machine-Learning-why-do-we-always-train-a-sample-rather-than-the-whole-dataset-database\n",
    "#     다하면 물론 좋은데 memory, computation cost\n",
    "#     -  credit-fraud-dealing-with-imbalanced-datasets.ipynb\n",
    "#     overfitting 이나 wrong corr 문제가 있어서\n"
   ],
   "execution_count": 266,
   "outputs": []
  },
  {
   "cell_type": "code",
   "metadata": {
    "cellView": "form",
    "id": "c51fvKEiYNzs",
    "executionInfo": {
     "status": "ok",
     "timestamp": 1606977596556,
     "user_tz": -540,
     "elapsed": 66218,
     "user": {
      "displayName": "JinUk Cho",
      "photoUrl": "",
      "userId": "10000090644219567406"
     }
    }
   },
   "source": [
    ""
   ],
   "execution_count": 266,
   "outputs": []
  }
 ]
}